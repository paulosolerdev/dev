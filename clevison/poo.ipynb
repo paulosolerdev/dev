{
 "cells": [
  {
   "cell_type": "code",
   "execution_count": 6,
   "metadata": {},
   "outputs": [
    {
     "name": "stdout",
     "output_type": "stream",
     "text": [
      "Preço atual de Camiseta: R$ 50.00\n",
      "Novo preço de Camiseta: R$ 60.00\n",
      "Preço com desconto de Camiseta: R$ 54.00\n"
     ]
    }
   ],
   "source": [
    "\"\"\"\n",
    "3. Pilares da POO\n",
    "\n",
    "    Ecnapsulamento: Protegendo os dados de uma classe.\n",
    "\n",
    "        Métodos getters e setters.\n",
    "\n",
    "    Em programação orientada a objetos, os métodos 'getters' e 'setters' \n",
    "    são usados para controlar o acesso a atributos de uma classe.\n",
    "\n",
    "    Os 'métodos getters' são usados para obter o valor de um atributo,\n",
    "    enquanto os 'métodos setters' são usados para definir ou modificar o valor\n",
    "    de um atributo.\n",
    "\n",
    "    Essa abordagem é especialmente útil para adicionar uma camada extra\n",
    "    de validação ou lógica ao acessar ou modificar os dados de um objeto.\n",
    "\n",
    "    Vamos considerar uma classe Produto que tem um preço. Queremos\n",
    "    garantir que o preço nunca seja negativo e que possamos aplicar um\n",
    "    desconto ao produto se necessário. Usaremos métodos 'getters' e 'setters'\n",
    "    para controlar o acesso ao atributo preço e aplicar a lógica necessária.\n",
    "\n",
    "\"\"\"\n",
    "\n",
    "# Definição da classe Produto\n",
    "class Produto:\n",
    "\n",
    "    def __init__(self, nome, preco):\n",
    "        self.nome = nome\n",
    "        self._preco = None\n",
    "        self.set_preco(preco)\n",
    "\n",
    "    def get_preco(self):\n",
    "        \"\"\"Método getter para obter o preço do produto.\"\"\"\n",
    "        return self._preco\n",
    "    \n",
    "    def set_preco(self, preco):\n",
    "        \"\"\"Método setter para definir o preço do produto.\n",
    "        \n",
    "        Garante que o preço nunca seja negativo.\n",
    "        \"\"\"\n",
    "        if preco < 0:\n",
    "            raise ValueError(\"O preço não pode ser negativo.\")\n",
    "        self._preco = preco\n",
    "\n",
    "    def aplicar_desconto(self, percentual):\n",
    "        \"\"\"Aplica um desconto ao preço do produto.\"\"\"\n",
    "        if percentual < 0 or percentual > 100:\n",
    "            raise ValueError(\"Percentual de desconto inválido.\")\n",
    "        desconto = self._preco * (percentual / 100)\n",
    "        self.set_preco(self._preco - desconto)\n",
    "\n",
    "\n",
    "p1 = Produto(\"Camiseta\", 50)\n",
    "print(f\"Preço atual de {p1.nome}: R$ {p1.get_preco():.2f}\")\n",
    "\n",
    "p1.set_preco(60)\n",
    "print(f\"Novo preço de {p1.nome}: R$ {p1.get_preco():.2f}\")\n",
    "\n",
    "p1.aplicar_desconto(10)\n",
    "print(f\"Preço com desconto de {p1.nome}: R$ {p1.get_preco():.2f}\")\n"
   ]
  }
 ],
 "metadata": {
  "kernelspec": {
   "display_name": ".venv",
   "language": "python",
   "name": "python3"
  },
  "language_info": {
   "codemirror_mode": {
    "name": "ipython",
    "version": 3
   },
   "file_extension": ".py",
   "mimetype": "text/x-python",
   "name": "python",
   "nbconvert_exporter": "python",
   "pygments_lexer": "ipython3",
   "version": "3.12.3"
  }
 },
 "nbformat": 4,
 "nbformat_minor": 2
}
