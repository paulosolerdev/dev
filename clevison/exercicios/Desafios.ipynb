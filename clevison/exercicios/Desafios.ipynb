{
 "cells": [
  {
   "cell_type": "code",
   "execution_count": 1,
   "id": "fb5078bd",
   "metadata": {},
   "outputs": [
    {
     "name": "stdout",
     "output_type": "stream",
     "text": [
      "A letra digitada é uma vogal.\n"
     ]
    }
   ],
   "source": [
    "\"\"\"\n",
    "1 - Faça um programa que verifique se uma letra digitada é uma vogal ou consoante.\n",
    "\n",
    "O programa deverá seguir as seguintes regras:\n",
    "\n",
    "- Solicitar ao usuário que digite uma letra.\n",
    "- Verificar se o caractere digitado é uma letra válida (a-z ou A-Z).\n",
    "- Se o caractere for uma letra, verificar se é uma vogal (a, e, i, o, u) ou consoante.\n",
    "- Caso o usuário insira um valor inválido, exibir uma mensagem de erro.\n",
    "\"\"\"\n",
    "\n",
    "def verificar_letra():\n",
    "    letra = input(\"Digite uma letra: \")\n",
    "    if letra.isalpha() and len(letra) == 1:\n",
    "        if letra.lower() in \"aeiou\":\n",
    "            print(\"A letra digitada é uma vogal.\")\n",
    "        else:\n",
    "            print(\"A letra digitada é uma consoante.\")\n",
    "    else:\n",
    "        print(\"Erro: Digite uma letra válida (a-z ou A-Z).\")\n",
    "\n",
    "if __name__ == \"__main__\":\n",
    "    verificar_letra()\n"
   ]
  },
  {
   "cell_type": "code",
   "execution_count": 8,
   "id": "118ae73e",
   "metadata": {},
   "outputs": [
    {
     "name": "stdout",
     "output_type": "stream",
     "text": [
      "O dia correspondente ao número 1 é Domingo.\n"
     ]
    }
   ],
   "source": [
    "\"\"\"\n",
    "2 - Faça um programa que leia um número e exiba o dia correspondente da semana.\n",
    "O programa deverá seguir as seguintes regras:\n",
    "- Solicitar ao usuário que digite um número entre 1 e 7.\n",
    "- Verificar se o número está dentro do intervalo válido.\n",
    "- Se o número estiver dentro do intervalo, exibir o dia da semana correspondente.\n",
    "- Caso o usuário insira um número inválido, exibir uma mensagem de erro. Tudo\n",
    "conforme a tabela abaixo:\n",
    "1 - Domingo\n",
    "2 - Segunda-feira\n",
    "3 - Terça-feira\n",
    "4 - Quarta-feira\n",
    "5 - Quinta-feira\n",
    "6 - Sexta-feira\n",
    "7 - Sábado\n",
    "\n",
    "Caso o usuário insira um número fora do intervalo, exibir a mensagem:\n",
    "\"Erro: Digite um número entre 1 e 7.\"\n",
    "\"\"\"\n",
    "\n",
    "def dia_da_semana(numero):\n",
    "    dias = {\n",
    "        1: \"Domingo\",\n",
    "        2: \"Segunda-feira\",\n",
    "        3: \"Terça-feira\",\n",
    "        4: \"Quarta-feira\",\n",
    "        5: \"Quinta-feira\",\n",
    "        6: \"Sexta-feira\",\n",
    "        7: \"Sábado\"\n",
    "    }\n",
    "    \n",
    "    if numero in dias:\n",
    "        return f\"O dia correspondente ao número {numero} é {dias[numero]}.\"\n",
    "    else:\n",
    "        return \"Erro: Digite um número entre 1 e 7.\"\n",
    "    \n",
    "try:\n",
    "    numero = int(input(\"Digite um número entre 1 e 7: \"))\n",
    "    resultado = dia_da_semana(numero)\n",
    "    print(resultado)\n",
    "\n",
    "except ValueError:\n",
    "    print(\"Entrada inválida! Por favor, digite um número entre 1 e 7.\")\n"
   ]
  },
  {
   "cell_type": "code",
   "execution_count": 12,
   "id": "cf8c90f9",
   "metadata": {},
   "outputs": [
    {
     "name": "stdout",
     "output_type": "stream",
     "text": [
      "Nota válida digitada: 8.0\n"
     ]
    }
   ],
   "source": [
    "\"\"\"\n",
    "3 - Faça um programa que peça uma nota, entre zero e dez.\n",
    "\n",
    "O programa deverá seguir as seguintes regras:\n",
    "\n",
    "- Solicitar ao usuário que digite uma nota entre 0 e 10.\n",
    "- Verificar se a nota está dentro do intervalo válido, incluindo os \n",
    "extremos.\n",
    "- Se o valor inserido for inválido (menor que 0, maior que 10 ou não for\n",
    "numérico), o programa deverá exibir uma mensagem de erro e continuar\n",
    "pedindo a nota até que o usuário insira um valor válido.\n",
    "- Quando um valor válido for inserido, o programa deverá encerrar e\n",
    "exibir uma mensagem confirmando a nota válida digitada.)\n",
    "\"\"\"\n",
    "\n",
    "def solicitar_nota():\n",
    "    while True:\n",
    "        try:\n",
    "            nota = float(input(\"Digite uma nota entre 0 e 10: \"))\n",
    "            if 0 <= nota <= 10:\n",
    "                return nota\n",
    "            else:\n",
    "                print(\"Erro: A nota deve estar entre 0 e 10.\")\n",
    "        except ValueError:\n",
    "            print(\"Erro: Digite um número válido.\")\n",
    "\n",
    "nota_valida = solicitar_nota()\n",
    "\n",
    "print(f\"Nota válida digitada: {nota_valida:.1f}\")\n"
   ]
  },
  {
   "cell_type": "code",
   "execution_count": 17,
   "id": "a6d40683",
   "metadata": {},
   "outputs": [
    {
     "name": "stdout",
     "output_type": "stream",
     "text": [
      "Contagem final de números em cada intervalo:\n",
      "Números no intervalo [0, 25]: 8\n",
      "Números no intervalo [26, 50]: 4\n",
      "Números no intervalo [51, 75]: 2\n",
      "Números no intervalo [76, 100]: 2\n"
     ]
    }
   ],
   "source": [
    "\"\"\"\n",
    "4 - Faça um programa que leia uma quantidade indeterminada de números\n",
    "positivos e conte quantos deles estão nos seguintes intervalos:\n",
    "- [0, 25]\n",
    "- [26, 50]\n",
    "- [51, 75]\n",
    "- [76, 100]\n",
    "O programa deverá seguir as seguintes regras:\n",
    "- Solicitar ao usuário que digite números positivos.\n",
    "- Classificar cada número inserido dentro dos intervalos:\n",
    "    - [0, 25]\n",
    "    - [26, 50]\n",
    "    - [51, 75]\n",
    "    - [76, 100]\n",
    "\n",
    "A entrada de números deve continuar até que o usuário insira um número\n",
    "negativo.\n",
    "\n",
    "Ao inserir um número negativo, a leitura deve ser encerrada, e o programa\n",
    "deve exibir a contagem de números em cada intervalo.\n",
    "\n",
    "Se o usuário inserir um número maior que 100, ele será ignorado e não\n",
    "contará para nenhum intervalo.\n",
    "\n",
    "Ao final, exibir quantos números pertencem a cada intervalo.\n",
    "\"\"\"\n",
    "\n",
    "def contar_intervalos():\n",
    "    intervalos = [0, 0, 0, 0]\n",
    "    \n",
    "    while True:\n",
    "        try:\n",
    "            numero = int(input(\"Digite um número positivo (ou negativo para sair): \"))\n",
    "            if numero < 0:\n",
    "                break\n",
    "            elif numero <= 25:\n",
    "                intervalos[0] += 1\n",
    "            elif numero <= 50:\n",
    "                intervalos[1] += 1\n",
    "            elif numero <= 75:\n",
    "                intervalos[2] += 1\n",
    "            elif numero <= 100:\n",
    "                intervalos[3] += 1\n",
    "        except ValueError:\n",
    "            print(\"Erro: Digite um número válido.\")\n",
    "    \n",
    "    return intervalos\n",
    "\n",
    "intervalos = contar_intervalos()\n",
    "\n",
    "print(\"Contagem final de números em cada intervalo:\")\n",
    "print(f\"Números no intervalo [0, 25]: {intervalos[0]}\")\n",
    "print(f\"Números no intervalo [26, 50]: {intervalos[1]}\")\n",
    "print(f\"Números no intervalo [51, 75]: {intervalos[2]}\")\n",
    "print(f\"Números no intervalo [76, 100]: {intervalos[3]}\")\n"
   ]
  },
  {
   "cell_type": "code",
   "execution_count": 22,
   "id": "039c47ce",
   "metadata": {},
   "outputs": [
    {
     "name": "stdout",
     "output_type": "stream",
     "text": [
      "Números na ordem inversa:\n",
      "6.0\n",
      "4.0\n",
      "5.0\n",
      "3.0\n",
      "4.0\n",
      "2.0\n",
      "3.0\n",
      "1.0\n",
      "2.0\n",
      "1.0\n"
     ]
    }
   ],
   "source": [
    "\"\"\"\n",
    "5 - Faça um programa que leia um vetor de 10 números reais e os\n",
    "mostre na ordem inversa.\n",
    "\n",
    "O programa deverá seguir as seguintes regras:\n",
    "\n",
    "- Solicitar ao usuário que digite 10 números reais.\n",
    "- Armazenar os números em um vetor (lista).\n",
    "- Exibir os números na ordem inversa em que foram digitados.\n",
    "- O programa deve garantir que o usuário insira apenas números reais.\n",
    "\"\"\"\n",
    "\n",
    "# numeros = []\n",
    "\n",
    "# for i in range(10):\n",
    "#     numero = float(input(f\"Digite o {i + 1}º número: \"))\n",
    "#     numeros.append(numero)\n",
    "\n",
    "# numeros.reverse()\n",
    "\n",
    "# print(\"Números na ordem inversa:\")\n",
    "# for numero in numeros:\n",
    "#     print(numero)\n",
    "\n",
    "def ler_vetor_inverso():\n",
    "    numeros = []\n",
    "    \n",
    "    for i in range(10):\n",
    "        while True:\n",
    "            try:\n",
    "                numero = float(input(f\"Digite o {i + 1}º número: \"))\n",
    "                numeros.append(numero)\n",
    "                break\n",
    "            except ValueError:\n",
    "                print(\"Erro: Digite um número válido.\")\n",
    "    \n",
    "    print(\"Números na ordem inversa:\")\n",
    "\n",
    "    for numero in reversed(numeros):\n",
    "        print(numero)\n",
    "\n",
    "ler_vetor_inverso()\n"
   ]
  },
  {
   "cell_type": "code",
   "execution_count": 24,
   "id": "381b65e9",
   "metadata": {},
   "outputs": [
    {
     "name": "stdout",
     "output_type": "stream",
     "text": [
      "Erro: Digite um número válido.\n",
      "Erro: Digite um número válido.\n",
      "Erro: Digite um número válido.\n",
      "\n",
      "Vetor principal:\n",
      "[1, 3, 2, 1, 1, 3, 4, 3, 2, 1, 2, 4, 3, 2, 1, 2, 3, 2, 1, 2]\n",
      "\n",
      "Vetor com números pares:\n",
      "[2, 4, 2, 2, 4, 2, 2, 2, 2]\n",
      "\n",
      "Vetor com números ímpares:\n",
      "[1, 3, 1, 1, 3, 3, 1, 3, 1, 3, 1]\n"
     ]
    }
   ],
   "source": [
    "\"\"\"\n",
    "6 - Faça um programa que leis 20 números e armazene-os em um vetor.\n",
    "O programa deverá seguir as seguintes regras:\n",
    "- Solicitar ao usuário que digite 20 números.\n",
    "- Armazenar os números em um vetor principal (lista).\n",
    "- Separar os números pares e ímpares em dois vetores distintos.\n",
    "\n",
    "Após o usuário inserir os 20 números, o programa deverá exibir os três\n",
    "vetores:\n",
    "- O vetor principal com os 20 números.\n",
    "- O vetor com os números pares.\n",
    "- O vetor com os números ímpares.\n",
    "\"\"\"\n",
    "\n",
    "def separar_pares_impares():\n",
    "    numeros = []\n",
    "    pares = []\n",
    "    impares = []\n",
    "    \n",
    "    for i in range(20):\n",
    "        while True:\n",
    "            try:\n",
    "                numero = int(input(f\"Digite o {i + 1}º número: \"))\n",
    "                numeros.append(numero)\n",
    "                if numero % 2 == 0:\n",
    "                    pares.append(numero)\n",
    "                else:\n",
    "                    impares.append(numero)\n",
    "                break\n",
    "            except ValueError:\n",
    "                print(\"Erro: Digite um número válido.\")\n",
    "    \n",
    "    print(\"\\nVetor principal:\")\n",
    "    print(numeros)\n",
    "    \n",
    "    print(\"\\nVetor com números pares:\")\n",
    "    print(pares)\n",
    "    \n",
    "    print(\"\\nVetor com números ímpares:\")\n",
    "    print(impares)\n",
    "\n",
    "separar_pares_impares()\n"
   ]
  },
  {
   "cell_type": "code",
   "execution_count": null,
   "id": "76ff9e1d",
   "metadata": {},
   "outputs": [
    {
     "name": "stdout",
     "output_type": "stream",
     "text": [
      "Encontrado um número par 2\n",
      "Encontrado um número ímpar 3\n",
      "Encontrado um número par 4\n",
      "Encontrado um número ímpar 5\n",
      "Encontrado um número par 6\n",
      "Encontrado um número ímpar 7\n",
      "Encontrado um número par 8\n",
      "Encontrado um número ímpar 9\n"
     ]
    }
   ],
   "source": []
  }
 ],
 "metadata": {
  "kernelspec": {
   "display_name": "3.10.13",
   "language": "python",
   "name": "python3"
  },
  "language_info": {
   "codemirror_mode": {
    "name": "ipython",
    "version": 3
   },
   "file_extension": ".py",
   "mimetype": "text/x-python",
   "name": "python",
   "nbconvert_exporter": "python",
   "pygments_lexer": "ipython3",
   "version": "3.10.13"
  }
 },
 "nbformat": 4,
 "nbformat_minor": 5
}
