{
 "cells": [
  {
   "cell_type": "code",
   "execution_count": null,
   "id": "acc87e34",
   "metadata": {},
   "outputs": [],
   "source": [
    "\"\"\"\n",
    "Exercício 1: Contagem de 1\n",
    "\"\"\""
   ]
  }
 ],
 "metadata": {
  "kernelspec": {
   "display_name": ".venv",
   "language": "python",
   "name": "python3"
  },
  "language_info": {
   "name": "python",
   "version": "3.12.3"
  }
 },
 "nbformat": 4,
 "nbformat_minor": 5
}
