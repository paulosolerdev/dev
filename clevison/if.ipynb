{
 "cells": [
  {
   "cell_type": "code",
   "execution_count": 3,
   "id": "9edcf167",
   "metadata": {},
   "outputs": [
    {
     "name": "stdout",
     "output_type": "stream",
     "text": [
      "O número 5.0 é maior que 4.0.\n"
     ]
    }
   ],
   "source": [
    "\"\"\"\n",
    "Exercício 1: Comparação de Números:\n",
    "\n",
    "Solicite dois números ao usuário. Use if para imprimir qual dos dois\n",
    "é maior, ou se eles são iguais.\n",
    "\"\"\"\n",
    "# Solicita dois números ao usuário\n",
    "num1 = float(input(\"Digite o primeiro número: \"))\n",
    "num2 = float(input(\"Digite o segundo número: \"))\n",
    "\n",
    "# Compara os números e imprime o resultado\n",
    "if num1 > num2:\n",
    "    print(f\"O número {num1} é maior que {num2}.\")\n",
    "elif num1 < num2:\n",
    "    print(f\"O número {num2} é maior que {num1}.\")\n",
    "else:\n",
    "    print(f\"Os números {num1} e {num2} são iguais.\")\n",
    "\n",
    "\n"
   ]
  },
  {
   "cell_type": "code",
   "execution_count": 6,
   "id": "bbe6be65",
   "metadata": {},
   "outputs": [
    {
     "name": "stdout",
     "output_type": "stream",
     "text": [
      "O número 4 é par.\n"
     ]
    }
   ],
   "source": [
    "#==================================================================#\n",
    "\n",
    "\"\"\"\n",
    " Exercício 2: Par ou Ímpar:\n",
    "Solicite um número ao usuário e verifique se ele é par ou ímpar.\n",
    "Imprima o resultado.\n",
    "\"\"\"\n",
    "\n",
    "# Solicita um número ao usuário\n",
    "num = int(input(\"Digite um número: \"))\n",
    "\n",
    "# Verifica se o número é par ou ímpar\n",
    "if num % 2 == 0:\n",
    "    print(f\"O número {num} é par.\")\n",
    "else:\n",
    "    print(f\"O número {num} é ímpar.\")\n",
    "\n",
    "#==================================================================#\n"
   ]
  },
  {
   "cell_type": "code",
   "execution_count": 10,
   "id": "9ffb3944",
   "metadata": {},
   "outputs": [
    {
     "name": "stdout",
     "output_type": "stream",
     "text": [
      "Muito frio.\n"
     ]
    }
   ],
   "source": [
    "\"\"\"\n",
    "Exercício 3: Verificação de Temperatura:\n",
    "\n",
    "Peça ao usuário para digitar a temperatura atual.\n",
    "\n",
    "- Se a temperatura estiver abaixo de 10ºC, imprima \"Muito frio\".\n",
    "- Se a temperatura estiver entre 10ºC e 25ºC, imprima \"Clima agradável!\".\n",
    "- Se a temperatura estiver acima de 25ºC, imprima \"Está quente!\".\n",
    "\"\"\"\n",
    "\n",
    "# Solicita a temperatura ao usuário\n",
    "temperatura = float(input(\"Digite a temperatura atual em ºC: \"))\n",
    "\n",
    "# Verifica a temperatura e imprime o resultado\n",
    "if temperatura < 10:\n",
    "    print(\"Muito frio.\")\n",
    "elif 10 <= temperatura <= 25:\n",
    "    print(\"Clima agradável!\")\n",
    "else:\n",
    "    print(\"Está quente!\")\n"
   ]
  },
  {
   "cell_type": "code",
   "execution_count": null,
   "id": "1c1344db",
   "metadata": {},
   "outputs": [],
   "source": [
    "\"\"\"\n",
    "Exercício 4: Cálculo de Imposto de Renda:\n",
    "\n",
    "Solicite ao usuário seu salário mensal. Se o salário for superior a R$5000,00, \n",
    "calcule e imprima o imposto devido de 20% sobre o salário.\n",
    "\n",
    "Caso contrário, imprima que o usuário está isento de impostos.\n",
    "\"\"\"\n",
    "\n"
   ]
  }
 ],
 "metadata": {
  "kernelspec": {
   "display_name": ".venv",
   "language": "python",
   "name": "python3"
  },
  "language_info": {
   "codemirror_mode": {
    "name": "ipython",
    "version": 3
   },
   "file_extension": ".py",
   "mimetype": "text/x-python",
   "name": "python",
   "nbconvert_exporter": "python",
   "pygments_lexer": "ipython3",
   "version": "3.12.3"
  }
 },
 "nbformat": 4,
 "nbformat_minor": 5
}
