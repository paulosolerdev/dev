{
 "cells": [
  {
   "cell_type": "code",
   "execution_count": 3,
   "id": "9edcf167",
   "metadata": {},
   "outputs": [
    {
     "name": "stdout",
     "output_type": "stream",
     "text": [
      "O número 5.0 é maior que 4.0.\n"
     ]
    }
   ],
   "source": [
    "\"\"\"\n",
    "Exercício 1: Comparação de Números:\n",
    "\n",
    "Solicite dois números ao usuário. Use if para imprimir qual dos dois\n",
    "é maior, ou se eles são iguais.\n",
    "\"\"\"\n",
    "# Solicita dois números ao usuário\n",
    "num1 = float(input(\"Digite o primeiro número: \"))\n",
    "num2 = float(input(\"Digite o segundo número: \"))\n",
    "\n",
    "# Compara os números e imprime o resultado\n",
    "if num1 > num2:\n",
    "    print(f\"O número {num1} é maior que {num2}.\")\n",
    "elif num1 < num2:\n",
    "    print(f\"O número {num2} é maior que {num1}.\")\n",
    "else:\n",
    "    print(f\"Os números {num1} e {num2} são iguais.\")\n",
    "\n",
    "\n"
   ]
  },
  {
   "cell_type": "code",
   "execution_count": 6,
   "id": "bbe6be65",
   "metadata": {},
   "outputs": [
    {
     "name": "stdout",
     "output_type": "stream",
     "text": [
      "O número 4 é par.\n"
     ]
    }
   ],
   "source": [
    "#==================================================================#\n",
    "\n",
    "\"\"\"\n",
    " Exercício 2: Par ou Ímpar:\n",
    "Solicite um número ao usuário e verifique se ele é par ou ímpar.\n",
    "Imprima o resultado.\n",
    "\"\"\"\n",
    "\n",
    "# Solicita um número ao usuário\n",
    "num = int(input(\"Digite um número: \"))\n",
    "\n",
    "# Verifica se o número é par ou ímpar\n",
    "if num % 2 == 0:\n",
    "    print(f\"O número {num} é par.\")\n",
    "else:\n",
    "    print(f\"O número {num} é ímpar.\")\n",
    "\n",
    "#==================================================================#\n"
   ]
  },
  {
   "cell_type": "code",
   "execution_count": 10,
   "id": "9ffb3944",
   "metadata": {},
   "outputs": [
    {
     "name": "stdout",
     "output_type": "stream",
     "text": [
      "Muito frio.\n"
     ]
    }
   ],
   "source": [
    "\"\"\"\n",
    "Exercício 3: Verificação de Temperatura:\n",
    "\n",
    "Peça ao usuário para digitar a temperatura atual.\n",
    "\n",
    "- Se a temperatura estiver abaixo de 10ºC, imprima \"Muito frio\".\n",
    "- Se a temperatura estiver entre 10ºC e 25ºC, imprima \"Clima agradável!\".\n",
    "- Se a temperatura estiver acima de 25ºC, imprima \"Está quente!\".\n",
    "\"\"\"\n",
    "\n",
    "# Solicita a temperatura ao usuário\n",
    "temperatura = float(input(\"Digite a temperatura atual em ºC: \"))\n",
    "\n",
    "# Verifica a temperatura e imprime o resultado\n",
    "if temperatura < 10:\n",
    "    print(\"Muito frio.\")\n",
    "elif 10 <= temperatura <= 25:\n",
    "    print(\"Clima agradável!\")\n",
    "else:\n",
    "    print(\"Está quente!\")\n"
   ]
  },
  {
   "cell_type": "code",
   "execution_count": 3,
   "id": "1c1344db",
   "metadata": {},
   "outputs": [
    {
     "name": "stdout",
     "output_type": "stream",
     "text": [
      "Você está isento de impostos.\n"
     ]
    }
   ],
   "source": [
    "\"\"\"\n",
    "Exercício 4: Cálculo de Imposto de Renda:\n",
    "\n",
    "Solicite ao usuário seu salário mensal. Se o salário for superior a R$5000,00, \n",
    "calcule e imprima o imposto devido de 20% sobre o salário.\n",
    "\n",
    "Caso contrário, imprima que o usuário está isento de impostos.\n",
    "\"\"\"\n",
    "\n",
    "# Solicita o salário mensal ao usuário\n",
    "salario = float(input(\"Digite seu salário mensal: R$ \"))\n",
    "\n",
    "# Verifica se o salário é superior a R$5000,00 e calcula o imposto\n",
    "if salario > 5000:\n",
    "    imposto = salario * 0.20\n",
    "    print(f\"Imposto devido: R$ {imposto:.2f}\")\n",
    "else:\n",
    "    print(\"Você está isento de impostos.\")\n"
   ]
  },
  {
   "cell_type": "code",
   "execution_count": 7,
   "id": "0ec856f5",
   "metadata": {},
   "outputs": [
    {
     "name": "stdout",
     "output_type": "stream",
     "text": [
      "A palavra 'ana' é um palíndromo.\n"
     ]
    }
   ],
   "source": [
    "\"\"\"\n",
    "Exercício 5: Verificar se uma palavra é um palíndromo:\n",
    "\n",
    "Escreva um programa que verifique se uma palavra é um palíndromo.\n",
    "Um palíndromo é uma palavra que pode ser lida da mesma forma de trás\n",
    "para frente.\n",
    "\"\"\"\n",
    "\n",
    "# Solicita uma palavra ao usuário\n",
    "palavra = input(\"Digite uma palavra: \").replace(\" \", \"\").lower()\n",
    "\n",
    "# Verifica se a palavra é um palíndromo\n",
    "if palavra == palavra[::-1]:\n",
    "    print(f\"A palavra '{palavra}' é um palíndromo.\")\n",
    "else:\n",
    "    print(f\"A palavra '{palavra}' não é um palíndromo.\")\n"
   ]
  },
  {
   "cell_type": "code",
   "execution_count": 9,
   "id": "94eb1792",
   "metadata": {},
   "outputs": [
    {
     "name": "stdout",
     "output_type": "stream",
     "text": [
      "O maior número é: 56.0\n"
     ]
    }
   ],
   "source": [
    "\"\"\"\n",
    "Exercício 6: Verificar o maior de três números:\n",
    "\n",
    "Peça ao usuário para digitar três números e imprima o maior deles.\n",
    "\"\"\"\n",
    "\n",
    "# Solicita três números ao usuário\n",
    "num1 = float(input(\"Digite o primeiro número: \"))\n",
    "num2 = float(input(\"Digite o segundo número: \"))\n",
    "num3 = float(input(\"Digite o terceiro número: \"))\n",
    "\n",
    "# Verifica qual dos três números é o maior e imprime o resultado\n",
    "if num1 >= num2 and num1 >= num3:\n",
    "    print(f\"O maior número é: {num1}\")\n",
    "elif num2 >= num1 and num2 >= num3:\n",
    "    print(f\"O maior número é: {num2}\")\n",
    "else:\n",
    "    print(f\"O maior número é: {num3}\")\n"
   ]
  },
  {
   "cell_type": "code",
   "execution_count": 12,
   "id": "78439d63",
   "metadata": {},
   "outputs": [
    {
     "name": "stdout",
     "output_type": "stream",
     "text": [
      "Você é uma criança.\n"
     ]
    }
   ],
   "source": [
    "\"\"\"\n",
    "Exercício 7: Categorizar idade\n",
    "\n",
    "Peça a idade de uma pessoa e classifique-a em uma das seguintes categorias:\n",
    "\n",
    "- Criança (0-12 anos)\n",
    "- Adolescente (13-17 anos)\n",
    "- Adulto (18-64 anos)\n",
    "- Idoso (65 anos ou mais)\n",
    "\"\"\"\n",
    "\n",
    "# Solicita a idade ao usuário\n",
    "idade = int(input(\"Digite sua idade: \"))\n",
    "\n",
    "# Verifica a categoria de idade e imprime o resultado\n",
    "if idade <= 12:\n",
    "    print(\"Você é uma criança.\")\n",
    "elif 13 <= idade <= 17:\n",
    "    print(\"Você é um adolescente.\")\n",
    "elif 18 <= idade <= 64:\n",
    "    print(\"Você é um adulto.\")\n",
    "elif idade >= 65:\n",
    "    print(\"Você é um idoso.\")\n",
    "else:\n",
    "    print(\"Idade inválida.\")\n"
   ]
  },
  {
   "cell_type": "code",
   "execution_count": null,
   "id": "a95ae46d",
   "metadata": {},
   "outputs": [],
   "source": []
  }
 ],
 "metadata": {
  "kernelspec": {
   "display_name": ".venv",
   "language": "python",
   "name": "python3"
  },
  "language_info": {
   "codemirror_mode": {
    "name": "ipython",
    "version": 3
   },
   "file_extension": ".py",
   "mimetype": "text/x-python",
   "name": "python",
   "nbconvert_exporter": "python",
   "pygments_lexer": "ipython3",
   "version": "3.12.3"
  }
 },
 "nbformat": 4,
 "nbformat_minor": 5
}
